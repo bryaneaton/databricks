{
 "cells": [
  {
   "cell_type": "code",
   "execution_count": 0,
   "metadata": {
    "application/vnd.databricks.v1+cell": {
     "cellMetadata": {
      "byteLimit": 2048000,
      "implicitDf": true,
      "rowLimit": 10000
     },
     "inputWidgets": {},
     "nuid": "bd0d58c4-7419-48a9-b864-a687aaead423",
     "showTitle": false,
     "tableResultSettingsMap": {},
     "title": ""
    }
   },
   "outputs": [],
   "source": [
    "%sql\n",
    "SELECT \n",
    "  refund_id, \n",
    "  payment_id, \n",
    "  refund_timestamp, \n",
    "  refund_amount, \n",
    "  refund_reason \n",
    "FROM \n",
    "  hive_metastore.bronze.refunds;"
   ]
  },
  {
   "cell_type": "code",
   "execution_count": 0,
   "metadata": {
    "application/vnd.databricks.v1+cell": {
     "cellMetadata": {
      "byteLimit": 2048000,
      "implicitDf": true,
      "rowLimit": 10000
     },
     "inputWidgets": {},
     "nuid": "31cd0240-acc1-4aa5-ad02-cff7f5cfb677",
     "showTitle": false,
     "tableResultSettingsMap": {
      "0": {
       "dataGridStateBlob": "{\"version\":1,\"tableState\":{\"columnPinning\":{\"left\":[\"#row_number#\"],\"right\":[]},\"columnSizing\":{},\"columnVisibility\":{}},\"settings\":{\"columns\":{}},\"syncTimestamp\":1756990477925}",
       "filterBlob": null,
       "queryPlanFiltersBlob": null,
       "tableResultIndex": 0
      }
     },
     "title": ""
    }
   },
   "outputs": [],
   "source": [
    "%sql\n",
    "SELECT \n",
    "  refund_id, \n",
    "  payment_id, \n",
    "  cast(refund_timestamp as date) as refund_date,\n",
    "  date_format(refund_timestamp, 'HH:mm:ss') as refund_time, \n",
    "  refund_amount, \n",
    "  split(refund_reason, ':')[0] as refund_reason,\n",
    "  split(refund_reason, ':')[1] as refund_source\n",
    "FROM \n",
    "  hive_metastore.bronze.refunds;"
   ]
  },
  {
   "cell_type": "code",
   "execution_count": 0,
   "metadata": {
    "application/vnd.databricks.v1+cell": {
     "cellMetadata": {
      "byteLimit": 2048000,
      "implicitDf": true,
      "rowLimit": 10000
     },
     "inputWidgets": {},
     "nuid": "15abb0c1-bf3b-470c-82a5-ec35277a9864",
     "showTitle": false,
     "tableResultSettingsMap": {},
     "title": ""
    }
   },
   "outputs": [],
   "source": [
    "%sql\n",
    "--regex example\n",
    "SELECT \n",
    "  refund_id, \n",
    "  payment_id, \n",
    "  cast(refund_timestamp as date) as refund_date,\n",
    "  date_format(refund_timestamp, 'HH:mm:ss') as refund_time, \n",
    "  refund_amount, \n",
    "  regexp_extract(refund_reason, '^([^:]+):', 1) as refund_reason,\n",
    "  regexp_extract(refund_reason, '^[^:]+:(.*)$', 1) as refund_source\n",
    "FROM \n",
    "  hive_metastore.bronze.refunds;"
   ]
  },
  {
   "cell_type": "code",
   "execution_count": 0,
   "metadata": {
    "application/vnd.databricks.v1+cell": {
     "cellMetadata": {
      "byteLimit": 2048000,
      "implicitDf": true,
      "rowLimit": 10000
     },
     "inputWidgets": {},
     "nuid": "91db71bc-3b04-4ab3-97e9-ac8ecdc1e920",
     "showTitle": false,
     "tableResultSettingsMap": {},
     "title": ""
    }
   },
   "outputs": [],
   "source": [
    "%sql\n",
    "CREATE SCHEMA IF NOT EXISTS hive_metastore.silver;\n",
    "DROP TABLE IF EXISTS hive_metastore.silver.refunds;\n",
    "CREATE OR REPLACE TABLE hive_metastore.silver.refunds as\n",
    "SELECT \n",
    "  refund_id, \n",
    "  payment_id, \n",
    "  cast(refund_timestamp as date) as refund_date,\n",
    "  date_format(refund_timestamp, 'HH:mm:ss') as refund_time, \n",
    "  refund_amount, \n",
    "  regexp_extract(refund_reason, '^([^:]+):', 1) as refund_reason,\n",
    "  regexp_extract(refund_reason, '^[^:]+:(.*)$', 1) as refund_source\n",
    "FROM \n",
    "  hive_metastore.bronze.refunds;"
   ]
  },
  {
   "cell_type": "code",
   "execution_count": 0,
   "metadata": {
    "application/vnd.databricks.v1+cell": {
     "cellMetadata": {
      "byteLimit": 2048000,
      "implicitDf": true,
      "rowLimit": 10000
     },
     "inputWidgets": {},
     "nuid": "07f2be35-c60b-4971-adfa-ec7ecf60f203",
     "showTitle": false,
     "tableResultSettingsMap": {},
     "title": ""
    }
   },
   "outputs": [],
   "source": [
    "%sql\n",
    "select * from hive_metastore.silver.refunds;"
   ]
  },
  {
   "cell_type": "code",
   "execution_count": 0,
   "metadata": {
    "application/vnd.databricks.v1+cell": {
     "cellMetadata": {
      "byteLimit": 2048000,
      "implicitDf": true,
      "rowLimit": 10000
     },
     "inputWidgets": {},
     "nuid": "abb20842-6907-4bf2-99ae-b812bd0fbf2f",
     "showTitle": false,
     "tableResultSettingsMap": {},
     "title": ""
    }
   },
   "outputs": [],
   "source": [
    "%sql DESC EXTENDED hive_metastore.silver.refunds"
   ]
  }
 ],
 "metadata": {
  "application/vnd.databricks.v1+notebook": {
   "computePreferences": null,
   "dashboards": [],
   "environmentMetadata": {
    "base_environment": "",
    "environment_version": "3"
   },
   "inputWidgetPreferences": null,
   "language": "python",
   "notebookMetadata": {
    "mostRecentlyExecutedCommandWithImplicitDF": {
     "commandId": 8686496254150464,
     "dataframes": [
      "_sqldf"
     ]
    },
    "pythonIndentUnit": 4
   },
   "notebookName": "Transform Refunds",
   "widgets": {}
  },
  "language_info": {
   "name": "python"
  }
 },
 "nbformat": 4,
 "nbformat_minor": 0
}
