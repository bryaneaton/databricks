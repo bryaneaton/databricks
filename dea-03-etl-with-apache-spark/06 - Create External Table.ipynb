{
 "cells": [
  {
   "cell_type": "code",
   "execution_count": 0,
   "metadata": {
    "application/vnd.databricks.v1+cell": {
     "cellMetadata": {
      "byteLimit": 2048000,
      "rowLimit": 10000
     },
     "inputWidgets": {},
     "nuid": "b3f2819d-2a3a-4354-af07-0094b31d8104",
     "showTitle": false,
     "tableResultSettingsMap": {},
     "title": ""
    }
   },
   "outputs": [],
   "source": [
    "%fs ls /Volumes/dea_tutorial/default/gizmobox/external_data/payments/\n"
   ]
  },
  {
   "cell_type": "code",
   "execution_count": 0,
   "metadata": {
    "application/vnd.databricks.v1+cell": {
     "cellMetadata": {},
     "inputWidgets": {},
     "nuid": "f91e80a7-56c0-4bca-8484-d420683abd6b",
     "showTitle": false,
     "tableResultSettingsMap": {},
     "title": ""
    }
   },
   "outputs": [],
   "source": [
    "%sql\n",
    "CREATE EXTERNAL LOCATION my_payments\n",
    "URL 's3://my-bucket/path/'\n",
    "WITH (STORAGE CREDENTIAL my_storage_cred);\n"
   ]
  },
  {
   "cell_type": "code",
   "execution_count": 0,
   "metadata": {
    "application/vnd.databricks.v1+cell": {
     "cellMetadata": {
      "byteLimit": 2048000,
      "implicitDf": true,
      "rowLimit": 10000
     },
     "inputWidgets": {},
     "nuid": "20eed20a-0d26-42b2-954b-c7c6e6bbf393",
     "showTitle": false,
     "tableResultSettingsMap": {
      "0": {
       "dataGridStateBlob": "{\"version\":1,\"tableState\":{\"columnPinning\":{\"left\":[\"#row_number#\"],\"right\":[]},\"columnSizing\":{\"url\":269},\"columnVisibility\":{}},\"settings\":{\"columns\":{}},\"syncTimestamp\":1756835514964}",
       "filterBlob": null,
       "queryPlanFiltersBlob": null,
       "tableResultIndex": 0
      }
     },
     "title": ""
    }
   },
   "outputs": [],
   "source": [
    "%sql\n",
    "SHOW EXTERNAL LOCATIONS;\n",
    "\n",
    "DESCRIBE EXTERNAL LOCATION gcp_bucket;\n",
    "\n"
   ]
  },
  {
   "cell_type": "code",
   "execution_count": 0,
   "metadata": {
    "application/vnd.databricks.v1+cell": {
     "cellMetadata": {
      "byteLimit": 2048000,
      "rowLimit": 10000
     },
     "inputWidgets": {},
     "nuid": "0a19fe64-4a5d-48d4-8314-6785c64c2000",
     "showTitle": false,
     "tableResultSettingsMap": {
      "0": {
       "dataGridStateBlob": "{\"version\":1,\"tableState\":{\"columnPinning\":{\"left\":[\"#row_number#\"],\"right\":[]},\"columnSizing\":{\"path\":547},\"columnVisibility\":{}},\"settings\":{\"columns\":{}},\"syncTimestamp\":1756905881152}",
       "filterBlob": null,
       "queryPlanFiltersBlob": null,
       "tableResultIndex": 0
      }
     },
     "title": ""
    }
   },
   "outputs": [],
   "source": [
    "%fs ls 'gs://databricks_example_data_dea/landing/external_data/payments'"
   ]
  },
  {
   "cell_type": "code",
   "execution_count": 0,
   "metadata": {
    "application/vnd.databricks.v1+cell": {
     "cellMetadata": {
      "byteLimit": 2048000,
      "implicitDf": true,
      "rowLimit": 10000
     },
     "inputWidgets": {},
     "nuid": "09f6108a-4747-478a-bbd8-24ca6fa6cfe8",
     "showTitle": false,
     "tableResultSettingsMap": {},
     "title": ""
    }
   },
   "outputs": [],
   "source": [
    "%sql \n",
    "SHOW EXTERNAL LOCATIONS;\n",
    "SHOW VOLUMES;"
   ]
  },
  {
   "cell_type": "code",
   "execution_count": 0,
   "metadata": {
    "application/vnd.databricks.v1+cell": {
     "cellMetadata": {
      "byteLimit": 2048000,
      "implicitDf": true,
      "rowLimit": 10000
     },
     "inputWidgets": {},
     "nuid": "79d7f5b6-5455-4008-8420-d36c8eea96b7",
     "showTitle": false,
     "tableResultSettingsMap": {},
     "title": ""
    }
   },
   "outputs": [],
   "source": [
    "%sql\n",
    "DESCRIBE EXTERNAL LOCATION gcp_bucket;\n"
   ]
  },
  {
   "cell_type": "code",
   "execution_count": 0,
   "metadata": {
    "application/vnd.databricks.v1+cell": {
     "cellMetadata": {
      "byteLimit": 2048000,
      "implicitDf": true,
      "rowLimit": 10000
     },
     "inputWidgets": {},
     "nuid": "c35ce855-d3af-480b-8f46-8c9d366396fc",
     "showTitle": false,
     "tableResultSettingsMap": {},
     "title": ""
    }
   },
   "outputs": [],
   "source": [
    "%sql\n",
    "GRANT CREATE ON EXTERNAL LOCATION gcp_bucket TO `bryan.eaton77@gmail.com`;\n"
   ]
  },
  {
   "cell_type": "code",
   "execution_count": 0,
   "metadata": {
    "application/vnd.databricks.v1+cell": {
     "cellMetadata": {
      "byteLimit": 2048000,
      "implicitDf": true,
      "rowLimit": 10000
     },
     "inputWidgets": {},
     "nuid": "afb3c321-be35-4393-8fb5-ba79643e6763",
     "showTitle": false,
     "tableResultSettingsMap": {},
     "title": ""
    }
   },
   "outputs": [],
   "source": [
    "%sql\n",
    "DROP TABLE IF EXISTS gizmo_box.bronze.payments;\n",
    "-- DROP TABLE IF EXISTS tmp_payments;\n",
    "\n",
    "\n",
    "-- CREATE TEMPORARY TABLE tmp_payments\n",
    "-- USING CSV\n",
    "-- OPTIONS (\n",
    "--   infer_schema = \"true\",\n",
    "--   header = \"false\",\n",
    "--   delimiter = \",\"\n",
    "-- )\n",
    "-- LOCATION 'gs://databricks_example_data_dea/landing/external_data/payments/';\n",
    "\n",
    "-- CREATE TABLE gizmo_box.bronze.payments AS\n",
    "-- SELECT \n",
    "--   CAST(_c0 AS INT) AS payment_id, \n",
    "--   CAST(_c1 AS INT) AS customer_id, \n",
    "--   CAST(_c2 AS TIMESTAMP) AS payment_date, \n",
    "--   CAST(_c3 AS STRING) AS payment_status, \n",
    "--   CAST(_c4 AS STRING) AS payment_method \n",
    "-- FROM tmp_payments;\n",
    "\n",
    "CREATE TABLE IF NOT EXISTS gizmo_box.bronze.payments\n",
    "(\n",
    "  payment_id INT,\n",
    "  order_id INT,\n",
    "  payment_timestamp TIMESTAMP,\n",
    "  payment_status INT,\n",
    "  payment_method STRING\n",
    ") USING CSV \n",
    "OPTIONS (\n",
    "  header = \"true\",\n",
    "  delimiter = \",\"\n",
    ")\n",
    "LOCATION 'gs://databricks_example_data_dea/landing/external_data/payments/';\n",
    "\n",
    "--REFRESH TABLE gizmo_box.bronze.payments;\n",
    "select * from gizmo_box.bronze.payments;"
   ]
  },
  {
   "cell_type": "code",
   "execution_count": 0,
   "metadata": {
    "application/vnd.databricks.v1+cell": {
     "cellMetadata": {
      "byteLimit": 2048000,
      "implicitDf": true,
      "rowLimit": 10000
     },
     "inputWidgets": {},
     "nuid": "de1172c5-7176-43a1-ab89-a25742aa361f",
     "showTitle": false,
     "tableResultSettingsMap": {
      "0": {
       "dataGridStateBlob": "{\"version\":1,\"tableState\":{\"columnPinning\":{\"left\":[\"#row_number#\"],\"right\":[]},\"columnSizing\":{},\"columnVisibility\":{}},\"settings\":{\"columns\":{}},\"syncTimestamp\":1756906883314}",
       "filterBlob": null,
       "queryPlanFiltersBlob": null,
       "tableResultIndex": 0
      }
     },
     "title": ""
    }
   },
   "outputs": [],
   "source": [
    "%sql\n",
    "REFRESH TABLE gizmo_box.bronze.payments;\n",
    "select * from gizmo_box.bronze.payments;"
   ]
  },
  {
   "cell_type": "code",
   "execution_count": 0,
   "metadata": {
    "application/vnd.databricks.v1+cell": {
     "cellMetadata": {
      "byteLimit": 2048000,
      "implicitDf": true,
      "rowLimit": 10000
     },
     "inputWidgets": {},
     "nuid": "421b46c1-367f-4f33-a289-fcdc61f03229",
     "showTitle": false,
     "tableResultSettingsMap": {},
     "title": ""
    }
   },
   "outputs": [],
   "source": [
    "%sql\n",
    "-- external tables will not delete files on drop. \n",
    "DROP TABLE IF EXISTS gizmo_box.bronze.payments;"
   ]
  }
 ],
 "metadata": {
  "application/vnd.databricks.v1+notebook": {
   "computePreferences": null,
   "dashboards": [],
   "environmentMetadata": {
    "base_environment": "",
    "environment_version": "3"
   },
   "inputWidgetPreferences": null,
   "language": "python",
   "notebookMetadata": {
    "mostRecentlyExecutedCommandWithImplicitDF": {
     "commandId": 8686496254150422,
     "dataframes": [
      "_sqldf"
     ]
    },
    "pythonIndentUnit": 4
   },
   "notebookName": "06 - Create External Table",
   "widgets": {}
  },
  "language_info": {
   "name": "python"
  }
 },
 "nbformat": 4,
 "nbformat_minor": 0
}
