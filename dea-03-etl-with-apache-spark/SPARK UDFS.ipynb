{
 "cells": [
  {
   "cell_type": "code",
   "execution_count": 0,
   "metadata": {
    "application/vnd.databricks.v1+cell": {
     "cellMetadata": {
      "byteLimit": 2048000,
      "implicitDf": true,
      "rowLimit": 10000
     },
     "inputWidgets": {},
     "nuid": "a3a2f404-60fc-4807-8f39-e5b0ce2b1bbb",
     "showTitle": false,
     "tableResultSettingsMap": {},
     "title": ""
    }
   },
   "outputs": [],
   "source": [
    "%sql\n",
    "-- Spark user defined functions.\n",
    "\n",
    "CREATE OR REPLACE FUNCTION gizmo_box.default.get_fullname(first_name STRING, last_name STRING) \n",
    "RETURNS STRING RETURN CONCAT(initcap(first_name), ' ',initcap(last_name))\n",
    "\n"
   ]
  },
  {
   "cell_type": "code",
   "execution_count": 0,
   "metadata": {
    "application/vnd.databricks.v1+cell": {
     "cellMetadata": {
      "byteLimit": 2048000,
      "implicitDf": true,
      "rowLimit": 10000
     },
     "inputWidgets": {},
     "nuid": "46966c8b-23e7-4272-a13f-609916b2d300",
     "showTitle": false,
     "tableResultSettingsMap": {},
     "title": ""
    }
   },
   "outputs": [],
   "source": [
    "%sql\n",
    "select gizmo_box.default.get_fullname('John', 'Eaton') as fullname;"
   ]
  },
  {
   "cell_type": "code",
   "execution_count": 0,
   "metadata": {
    "application/vnd.databricks.v1+cell": {
     "cellMetadata": {
      "byteLimit": 2048000,
      "implicitDf": true,
      "rowLimit": 10000
     },
     "inputWidgets": {},
     "nuid": "a75d9b53-1eb8-4f87-b9d1-440f8856b959",
     "showTitle": false,
     "tableResultSettingsMap": {},
     "title": ""
    }
   },
   "outputs": [],
   "source": [
    "%sql DESC FUNCTION EXTENDED gizmo_box.default.get_fullname"
   ]
  },
  {
   "cell_type": "code",
   "execution_count": 0,
   "metadata": {
    "application/vnd.databricks.v1+cell": {
     "cellMetadata": {
      "byteLimit": 2048000,
      "implicitDf": true,
      "rowLimit": 10000
     },
     "inputWidgets": {},
     "nuid": "28afd9d3-21f4-443d-bd88-5f4e71e0353d",
     "showTitle": false,
     "tableResultSettingsMap": {},
     "title": ""
    }
   },
   "outputs": [],
   "source": [
    "%sql\n",
    "-- Spark user defined functions.\n",
    "\n",
    "CREATE OR REPLACE FUNCTION gizmo_box.default.get_payment_status(payment_status INT) \n",
    "RETURNS STRING \n",
    "RETURN CASE payment_status \n",
    "WHEN 1 THEN 'Success'\n",
    "WHEN 2 THEN 'Pending'\n",
    "WHEN 3 THEN 'Cancelled'\n",
    "WHEN 4 THEN 'Failed'\n",
    "END;\n"
   ]
  },
  {
   "cell_type": "code",
   "execution_count": 0,
   "metadata": {
    "application/vnd.databricks.v1+cell": {
     "cellMetadata": {
      "byteLimit": 2048000,
      "implicitDf": true,
      "rowLimit": 10000
     },
     "inputWidgets": {},
     "nuid": "6ea0dc96-b0d3-4a11-b8db-037e20dd3631",
     "showTitle": false,
     "tableResultSettingsMap": {},
     "title": ""
    }
   },
   "outputs": [],
   "source": [
    "%sql\n",
    "select payment_id,\n",
    "order_id,\n",
    "cast(date_format(payment_timestamp, 'yyyy-MM-dd') as date) as payment_date,\n",
    "date_format(payment_timestamp, 'HH:mm:ss') as payment_time,\n",
    "gizmo_box.default.get_payment_status(payment_status) as payment_status\n",
    "from gizmo_box.bronze.payments;"
   ]
  }
 ],
 "metadata": {
  "application/vnd.databricks.v1+notebook": {
   "computePreferences": null,
   "dashboards": [],
   "environmentMetadata": {
    "base_environment": "",
    "environment_version": "3"
   },
   "inputWidgetPreferences": null,
   "language": "python",
   "notebookMetadata": {
    "mostRecentlyExecutedCommandWithImplicitDF": {
     "commandId": 8686496254150513,
     "dataframes": [
      "_sqldf"
     ]
    },
    "pythonIndentUnit": 4
   },
   "notebookName": "SPARK UDFS",
   "widgets": {}
  },
  "language_info": {
   "name": "python"
  }
 },
 "nbformat": 4,
 "nbformat_minor": 0
}
