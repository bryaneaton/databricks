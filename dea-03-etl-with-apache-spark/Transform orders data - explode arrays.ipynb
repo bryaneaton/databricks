{
 "cells": [
  {
   "cell_type": "code",
   "execution_count": 0,
   "metadata": {
    "application/vnd.databricks.v1+cell": {
     "cellMetadata": {
      "byteLimit": 2048000,
      "implicitDf": true,
      "rowLimit": 10000
     },
     "inputWidgets": {},
     "nuid": "4d57a71e-06fa-4973-aec0-d855ba4cefdf",
     "showTitle": false,
     "tableResultSettingsMap": {
      "0": {
       "dataGridStateBlob": "{\"version\":1,\"tableState\":{\"columnPinning\":{\"left\":[\"#row_number#\"],\"right\":[]},\"columnSizing\":{},\"columnVisibility\":{}},\"settings\":{\"columns\":{}},\"syncTimestamp\":1756994019938}",
       "filterBlob": null,
       "queryPlanFiltersBlob": null,
       "tableResultIndex": 0
      }
     },
     "title": ""
    }
   },
   "outputs": [],
   "source": [
    "%sql\n",
    "CREATE OR REPLACE TEMPORARY VIEW tv_orders_exploded as\n",
    "SELECT \n",
    "  json_value.order_id AS order_id, \n",
    "  json_value.customer_id AS customer_id, \n",
    "  json_value.order_status, \n",
    "  json_value.payment_method, \n",
    "  json_value.total_amount, \n",
    "  cast(json_value.transaction_timestamp as date) AS transaction_date,\n",
    "  date_format(json_value.transaction_timestamp, 'HH:mm:dd') AS transaction_time,\n",
    "  explode(array_distinct(json_value.items)) AS item\n",
    "FROM \n",
    "  gizmo_box.silver.orders_json;"
   ]
  },
  {
   "cell_type": "code",
   "execution_count": 0,
   "metadata": {
    "application/vnd.databricks.v1+cell": {
     "cellMetadata": {
      "byteLimit": 2048000,
      "implicitDf": true,
      "rowLimit": 10000
     },
     "inputWidgets": {},
     "nuid": "f78c74ab-0411-42db-88df-75eca4528b05",
     "showTitle": false,
     "tableResultSettingsMap": {
      "0": {
       "dataGridStateBlob": "{\"version\":1,\"tableState\":{\"columnPinning\":{\"left\":[\"#row_number#\"],\"right\":[]},\"columnSizing\":{},\"columnVisibility\":{}},\"settings\":{\"columns\":{}},\"syncTimestamp\":1756994542757}",
       "filterBlob": null,
       "queryPlanFiltersBlob": null,
       "tableResultIndex": 0
      }
     },
     "title": ""
    }
   },
   "outputs": [],
   "source": [
    "%sql\n",
    "SELECT \n",
    "  order_id, \n",
    "  customer_id, \n",
    "  order_status, \n",
    "  payment_method, \n",
    "  total_amount, \n",
    "  transaction_date, \n",
    "  transaction_time, \n",
    "  item.item_id,\n",
    "  item.name,\n",
    "  item.price,\n",
    "  item.quantity,\n",
    "  item.category,\n",
    "  item.details.brand,\n",
    "  item.details.color\n",
    "FROM \n",
    "  tv_orders_exploded;"
   ]
  },
  {
   "cell_type": "code",
   "execution_count": 0,
   "metadata": {
    "application/vnd.databricks.v1+cell": {
     "cellMetadata": {
      "byteLimit": 2048000,
      "implicitDf": true,
      "rowLimit": 10000
     },
     "inputWidgets": {},
     "nuid": "52926843-e78a-40cc-8b9d-e2eba6d0268e",
     "showTitle": false,
     "tableResultSettingsMap": {},
     "title": ""
    }
   },
   "outputs": [],
   "source": [
    "%sql\n",
    "\n",
    "-- write to silver\n",
    "\n",
    "CREATE TABLE IF NOT EXISTS gizmo_box.silver.orders as \n",
    "SELECT \n",
    "  order_id, \n",
    "  customer_id, \n",
    "  order_status, \n",
    "  payment_method, \n",
    "  total_amount, \n",
    "  transaction_date, \n",
    "  transaction_time, \n",
    "  item.item_id,\n",
    "  item.name,\n",
    "  item.price,\n",
    "  item.quantity,\n",
    "  item.category,\n",
    "  item.details.brand,\n",
    "  item.details.color\n",
    "FROM \n",
    "  tv_orders_exploded;"
   ]
  }
 ],
 "metadata": {
  "application/vnd.databricks.v1+notebook": {
   "computePreferences": null,
   "dashboards": [],
   "environmentMetadata": {
    "base_environment": "",
    "environment_version": "3"
   },
   "inputWidgetPreferences": null,
   "language": "python",
   "notebookMetadata": {
    "mostRecentlyExecutedCommandWithImplicitDF": {
     "commandId": 8686496254150500,
     "dataframes": [
      "_sqldf"
     ]
    },
    "pythonIndentUnit": 4
   },
   "notebookName": "Transform orders data - explode arrays",
   "widgets": {}
  },
  "language_info": {
   "name": "python"
  }
 },
 "nbformat": 4,
 "nbformat_minor": 0
}
