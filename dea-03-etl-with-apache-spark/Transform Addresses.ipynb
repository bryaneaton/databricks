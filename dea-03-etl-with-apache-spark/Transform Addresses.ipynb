{
 "cells": [
  {
   "cell_type": "code",
   "execution_count": 0,
   "metadata": {
    "application/vnd.databricks.v1+cell": {
     "cellMetadata": {
      "byteLimit": 2048000,
      "implicitDf": true,
      "rowLimit": 10000
     },
     "inputWidgets": {},
     "nuid": "373d5267-bc86-482f-a15e-7e46fba57eef",
     "showTitle": false,
     "tableResultSettingsMap": {
      "0": {
       "dataGridStateBlob": "{\"version\":1,\"tableState\":{\"columnPinning\":{\"left\":[\"#row_number#\"],\"right\":[]},\"columnSizing\":{},\"columnVisibility\":{}},\"settings\":{\"columns\":{}},\"syncTimestamp\":1756991805489}",
       "filterBlob": null,
       "queryPlanFiltersBlob": null,
       "tableResultIndex": 0
      }
     },
     "title": ""
    }
   },
   "outputs": [],
   "source": [
    "%sql\n",
    "select \n",
    "  customer_id, \n",
    "  address_type, \n",
    "  address_line_1, \n",
    "  city, \n",
    "  state, \n",
    "  to_char(postcode, '00000') as formatted_postcode, \n",
    "  _rescued_data \n",
    "from gizmo_box.bronze.v_addresses;"
   ]
  },
  {
   "cell_type": "code",
   "execution_count": 0,
   "metadata": {
    "application/vnd.databricks.v1+cell": {
     "cellMetadata": {
      "byteLimit": 2048000,
      "implicitDf": true,
      "rowLimit": 10000
     },
     "inputWidgets": {},
     "nuid": "71f98452-4393-4710-8a09-fea8ede77a30",
     "showTitle": false,
     "tableResultSettingsMap": {},
     "title": ""
    }
   },
   "outputs": [],
   "source": [
    "%sql\n",
    "SELECT *\n",
    "FROM (\n",
    "    SELECT \n",
    "        customer_id, \n",
    "        address_type, \n",
    "        address_line_1, \n",
    "        city, \n",
    "        state, \n",
    "        postcode\n",
    "    FROM gizmo_box.bronze.v_addresses\n",
    ") \n",
    "PIVOT (\n",
    "    max(address_line_1) as address_line_1,\n",
    "    max(city) as city,\n",
    "    max(state) as state,\n",
    "    max(postcode) as postcode\n",
    "    FOR address_type IN ('billing', 'shipping')\n",
    ");\n"
   ]
  },
  {
   "cell_type": "code",
   "execution_count": 0,
   "metadata": {
    "application/vnd.databricks.v1+cell": {
     "cellMetadata": {
      "byteLimit": 2048000,
      "implicitDf": true,
      "rowLimit": 10000
     },
     "inputWidgets": {},
     "nuid": "d6a44ea1-511f-405b-86f6-c8bdc468de81",
     "showTitle": false,
     "tableResultSettingsMap": {},
     "title": ""
    }
   },
   "outputs": [],
   "source": [
    "%sql\n",
    "CREATE OR REPLACE TABLE gizmo_box.silver.addresses AS\n",
    "SELECT *\n",
    "FROM (\n",
    "    SELECT \n",
    "        customer_id, \n",
    "        address_type, \n",
    "        address_line_1, \n",
    "        city, \n",
    "        state, \n",
    "        postcode\n",
    "    FROM gizmo_box.bronze.v_addresses\n",
    ") \n",
    "PIVOT (\n",
    "    max(address_line_1) as address_line_1,\n",
    "    max(city) as city,\n",
    "    max(state) as state,\n",
    "    max(postcode) as postcode\n",
    "    FOR address_type IN ('billing', 'shipping')\n",
    ");\n"
   ]
  }
 ],
 "metadata": {
  "application/vnd.databricks.v1+notebook": {
   "computePreferences": null,
   "dashboards": [],
   "environmentMetadata": {
    "base_environment": "",
    "environment_version": "3"
   },
   "inputWidgetPreferences": null,
   "language": "python",
   "notebookMetadata": {
    "mostRecentlyExecutedCommandWithImplicitDF": {
     "commandId": 8686496254150486,
     "dataframes": [
      "_sqldf"
     ]
    },
    "pythonIndentUnit": 4
   },
   "notebookName": "Transform Addresses",
   "widgets": {}
  },
  "language_info": {
   "name": "python"
  }
 },
 "nbformat": 4,
 "nbformat_minor": 0
}
